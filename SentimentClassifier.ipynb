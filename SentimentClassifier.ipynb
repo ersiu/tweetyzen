{
 "cells": [
  {
   "cell_type": "markdown",
   "metadata": {},
   "source": [
    "# HK-DAT-15 Final Project - Text Sentiment Classifier \n",
    "Create a model classifier to classify text sentiment either to positive or negative\n",
    "2 set of training data are used - movie reviews and sample twitter message with positive and negative labels"
   ]
  },
  {
   "cell_type": "code",
   "execution_count": 1,
   "metadata": {},
   "outputs": [],
   "source": [
    "import sys\n",
    "import os\n",
    "import time\n",
    "\n",
    "import numpy as np\n",
    "import pandas as pd\n",
    "\n",
    "import re"
   ]
  },
  {
   "cell_type": "code",
   "execution_count": 2,
   "metadata": {},
   "outputs": [],
   "source": [
    "from sklearn.naive_bayes import MultinomialNB\n",
    "from sklearn import metrics\n",
    "\n",
    "# from sklearn.svm import LinearSVC\n",
    "# from sklearn.naive_bayes import MultinomialNB\n",
    "# classifierSVC = LinearSVC()"
   ]
  },
  {
   "cell_type": "code",
   "execution_count": 3,
   "metadata": {},
   "outputs": [],
   "source": [
    "import spacy\n",
    "from spacy.lemmatizer import Lemmatizer\n",
    "nlp = spacy.load('en')\n",
    "from spacy.lang.en.stop_words import STOP_WORDS\n",
    "\n",
    "import string"
   ]
  },
  {
   "cell_type": "code",
   "execution_count": 4,
   "metadata": {},
   "outputs": [],
   "source": [
    "from sklearn.naive_bayes import MultinomialNB\n",
    "from sklearn.metrics import confusion_matrix,classification_report\n",
    "from sklearn.feature_extraction.text import TfidfVectorizer"
   ]
  },
  {
   "cell_type": "markdown",
   "metadata": {},
   "source": [
    "## The data\n",
    "1) read the movie review data (positive.txt and negative.txt)  2) read twitter message csv - containing positive, negative and neutral tweets"
   ]
  },
  {
   "cell_type": "code",
   "execution_count": 5,
   "metadata": {},
   "outputs": [],
   "source": [
    "documents = []\n",
    "all_words = []\n",
    "\n",
    "# load reviews\n",
    "short_pos = open(\"./training_data/positive.txt\",\"r\").read()\n",
    "short_neg = open(\"./training_data/negative.txt\",\"r\").read()\n",
    "\n",
    "pos_reviews = short_pos.split('\\n')\n",
    "neg_reviews = short_neg.split('\\n')\n",
    "df_pos = pd.DataFrame(pos_reviews, columns=['text'])\n",
    "df_neg = pd.DataFrame(neg_reviews, columns=['text'])\n",
    "df_neg['label'] = 'neg' \n",
    "df_pos['label'] = 'pos' "
   ]
  },
  {
   "cell_type": "code",
   "execution_count": 6,
   "metadata": {},
   "outputs": [],
   "source": [
    "df_tweets = pd.read_csv('./training_data/tweets.csv')\n",
    "#remove neutral tweets - only classify positive vs. negative\n",
    "df_tweets = df_tweets[df_tweets['label'] != 'neutral']"
   ]
  },
  {
   "cell_type": "code",
   "execution_count": 7,
   "metadata": {},
   "outputs": [],
   "source": [
    "#df_sent140 = pd.read_csv('./training_data/senti140.csv')"
   ]
  },
  {
   "cell_type": "code",
   "execution_count": 8,
   "metadata": {},
   "outputs": [],
   "source": [
    "#concatenate the lists\n",
    "#l = [df_pos, df_neg, df_tweets, df_sent140]\n",
    "l = [df_pos, df_neg, df_tweets]\n",
    "df = pd.concat(l)\n",
    "df['label_num'] = df.label.map({'positive':1, 'pos':1, 'negative':0, 'neg':0})\n",
    "# reset index - duplicated index happens due to concat of mulitple df"
   ]
  },
  {
   "cell_type": "code",
   "execution_count": 9,
   "metadata": {
    "scrolled": true
   },
   "outputs": [
    {
     "name": "stdout",
     "output_type": "stream",
     "text": [
      "<class 'pandas.core.frame.DataFrame'>\n",
      "Int64Index: 15819 entries, 0 to 7091\n",
      "Data columns (total 3 columns):\n",
      "text         15819 non-null object\n",
      "label        15819 non-null object\n",
      "label_num    15819 non-null int64\n",
      "dtypes: int64(1), object(2)\n",
      "memory usage: 494.3+ KB\n"
     ]
    }
   ],
   "source": [
    "df.info()"
   ]
  },
  {
   "cell_type": "code",
   "execution_count": 10,
   "metadata": {},
   "outputs": [],
   "source": [
    "df.dropna(how='any', inplace=True)"
   ]
  },
  {
   "cell_type": "code",
   "execution_count": 11,
   "metadata": {},
   "outputs": [],
   "source": [
    "def clean_text(text):\n",
    "    return re.sub(\"(@[A-Za-z0-9]+)|([^0-9A-Za-z \\t])|(\\w+:\\/\\/\\S+)\", \" \", text).strip()\n",
    "\n",
    "df['clean_text'] = df['text'].apply(clean_text)\n",
    "df['text_len'] = df['text'].apply(len)"
   ]
  },
  {
   "cell_type": "code",
   "execution_count": 12,
   "metadata": {},
   "outputs": [
    {
     "data": {
      "text/plain": [
       "15819"
      ]
     },
     "execution_count": 12,
     "metadata": {},
     "output_type": "execute_result"
    }
   ],
   "source": [
    "df = df.reset_index(drop=True)\n",
    "len(df)"
   ]
  },
  {
   "cell_type": "code",
   "execution_count": 53,
   "metadata": {},
   "outputs": [
    {
     "data": {
      "text/html": [
       "<div>\n",
       "<style>\n",
       "    .dataframe thead tr:only-child th {\n",
       "        text-align: right;\n",
       "    }\n",
       "\n",
       "    .dataframe thead th {\n",
       "        text-align: left;\n",
       "    }\n",
       "\n",
       "    .dataframe tbody tr th {\n",
       "        vertical-align: top;\n",
       "    }\n",
       "</style>\n",
       "<table border=\"1\" class=\"dataframe\">\n",
       "  <thead>\n",
       "    <tr style=\"text-align: right;\">\n",
       "      <th></th>\n",
       "      <th>text</th>\n",
       "      <th>label</th>\n",
       "      <th>label_num</th>\n",
       "      <th>clean_text</th>\n",
       "      <th>text_len</th>\n",
       "    </tr>\n",
       "  </thead>\n",
       "  <tbody>\n",
       "    <tr>\n",
       "      <th>15674</th>\n",
       "      <td>- i am ditching this update to go hang out on ...</td>\n",
       "      <td>negative</td>\n",
       "      <td>0</td>\n",
       "      <td>i am ditching this update to go hang out on th...</td>\n",
       "      <td>85</td>\n",
       "    </tr>\n",
       "    <tr>\n",
       "      <th>266</th>\n",
       "      <td>an incendiary , deeply thought-provoking look ...</td>\n",
       "      <td>pos</td>\n",
       "      <td>1</td>\n",
       "      <td>an incendiary   deeply thought provoking look ...</td>\n",
       "      <td>153</td>\n",
       "    </tr>\n",
       "    <tr>\n",
       "      <th>7514</th>\n",
       "      <td>that is essentially what's missing from blackb...</td>\n",
       "      <td>neg</td>\n",
       "      <td>0</td>\n",
       "      <td>that is essentially what s missing from blackb...</td>\n",
       "      <td>109</td>\n",
       "    </tr>\n",
       "    <tr>\n",
       "      <th>10617</th>\n",
       "      <td>queen of the damned is too long with too littl...</td>\n",
       "      <td>neg</td>\n",
       "      <td>0</td>\n",
       "      <td>queen of the damned is too long with too littl...</td>\n",
       "      <td>59</td>\n",
       "    </tr>\n",
       "    <tr>\n",
       "      <th>1619</th>\n",
       "      <td>meyjes' provocative film might be called an ex...</td>\n",
       "      <td>pos</td>\n",
       "      <td>1</td>\n",
       "      <td>meyjes  provocative film might be called an ex...</td>\n",
       "      <td>83</td>\n",
       "    </tr>\n",
       "    <tr>\n",
       "      <th>280</th>\n",
       "      <td>an endearingly offbeat romantic comedy with a ...</td>\n",
       "      <td>pos</td>\n",
       "      <td>1</td>\n",
       "      <td>an endearingly offbeat romantic comedy with a ...</td>\n",
       "      <td>72</td>\n",
       "    </tr>\n",
       "    <tr>\n",
       "      <th>9431</th>\n",
       "      <td>the story is bogus and its characters tissue-t...</td>\n",
       "      <td>neg</td>\n",
       "      <td>0</td>\n",
       "      <td>the story is bogus and its characters tissue thin</td>\n",
       "      <td>52</td>\n",
       "    </tr>\n",
       "    <tr>\n",
       "      <th>9877</th>\n",
       "      <td>spreads itself too thin , leaving these actors...</td>\n",
       "      <td>neg</td>\n",
       "      <td>0</td>\n",
       "      <td>spreads itself too thin   leaving these actors...</td>\n",
       "      <td>124</td>\n",
       "    </tr>\n",
       "    <tr>\n",
       "      <th>3538</th>\n",
       "      <td>more than simply a portrait of early extreme s...</td>\n",
       "      <td>pos</td>\n",
       "      <td>1</td>\n",
       "      <td>more than simply a portrait of early extreme s...</td>\n",
       "      <td>151</td>\n",
       "    </tr>\n",
       "    <tr>\n",
       "      <th>12770</th>\n",
       "      <td>hey shuz, long time haven heard from you. how ...</td>\n",
       "      <td>negative</td>\n",
       "      <td>0</td>\n",
       "      <td>hey shuz  long time haven heard from you  how ...</td>\n",
       "      <td>74</td>\n",
       "    </tr>\n",
       "    <tr>\n",
       "      <th>3616</th>\n",
       "      <td>a headline-fresh thriller set among orthodox j...</td>\n",
       "      <td>pos</td>\n",
       "      <td>1</td>\n",
       "      <td>a headline fresh thriller set among orthodox j...</td>\n",
       "      <td>237</td>\n",
       "    </tr>\n",
       "    <tr>\n",
       "      <th>2233</th>\n",
       "      <td>efteriades gives the neighborhood -- scenery ,...</td>\n",
       "      <td>pos</td>\n",
       "      <td>1</td>\n",
       "      <td>efteriades gives the neighborhood    scenery  ...</td>\n",
       "      <td>112</td>\n",
       "    </tr>\n",
       "    <tr>\n",
       "      <th>343</th>\n",
       "      <td>an intriguing and entertaining introduction to...</td>\n",
       "      <td>pos</td>\n",
       "      <td>1</td>\n",
       "      <td>an intriguing and entertaining introduction to...</td>\n",
       "      <td>57</td>\n",
       "    </tr>\n",
       "    <tr>\n",
       "      <th>4337</th>\n",
       "      <td>visually breathtaking , viscerally exciting , ...</td>\n",
       "      <td>pos</td>\n",
       "      <td>1</td>\n",
       "      <td>visually breathtaking   viscerally exciting   ...</td>\n",
       "      <td>117</td>\n",
       "    </tr>\n",
       "    <tr>\n",
       "      <th>15754</th>\n",
       "      <td>lol i have addictive personality but if i am t...</td>\n",
       "      <td>negative</td>\n",
       "      <td>0</td>\n",
       "      <td>lol i have addictive personality but if i am t...</td>\n",
       "      <td>103</td>\n",
       "    </tr>\n",
       "    <tr>\n",
       "      <th>11893</th>\n",
       "      <td>I edited them out , because I was n't wearing ...</td>\n",
       "      <td>negative</td>\n",
       "      <td>0</td>\n",
       "      <td>I edited them out   because I was n t wearing ...</td>\n",
       "      <td>55</td>\n",
       "    </tr>\n",
       "    <tr>\n",
       "      <th>4232</th>\n",
       "      <td>a gem , captured in the unhurried , low-key st...</td>\n",
       "      <td>pos</td>\n",
       "      <td>1</td>\n",
       "      <td>a gem   captured in the unhurried   low key st...</td>\n",
       "      <td>102</td>\n",
       "    </tr>\n",
       "    <tr>\n",
       "      <th>7478</th>\n",
       "      <td>arnold's jump from little screen to big will l...</td>\n",
       "      <td>neg</td>\n",
       "      <td>0</td>\n",
       "      <td>arnold s jump from little screen to big will l...</td>\n",
       "      <td>85</td>\n",
       "    </tr>\n",
       "    <tr>\n",
       "      <th>3690</th>\n",
       "      <td>bolstered by exceptional performances and a cl...</td>\n",
       "      <td>pos</td>\n",
       "      <td>1</td>\n",
       "      <td>bolstered by exceptional performances and a cl...</td>\n",
       "      <td>131</td>\n",
       "    </tr>\n",
       "    <tr>\n",
       "      <th>13520</th>\n",
       "      <td>Thanks Merry X'mas to you too Jianbin, and enj...</td>\n",
       "      <td>positive</td>\n",
       "      <td>1</td>\n",
       "      <td>Thanks Merry X mas to you too Jianbin  and enj...</td>\n",
       "      <td>75</td>\n",
       "    </tr>\n",
       "    <tr>\n",
       "      <th>1522</th>\n",
       "      <td>\" mostly martha \" is a bright , light modern ...</td>\n",
       "      <td>pos</td>\n",
       "      <td>1</td>\n",
       "      <td>mostly martha   is a bright   light modern day...</td>\n",
       "      <td>117</td>\n",
       "    </tr>\n",
       "    <tr>\n",
       "      <th>12213</th>\n",
       "      <td>no worries.u ask he sure say ok lah</td>\n",
       "      <td>positive</td>\n",
       "      <td>1</td>\n",
       "      <td>no worries u ask he sure say ok lah</td>\n",
       "      <td>35</td>\n",
       "    </tr>\n",
       "    <tr>\n",
       "      <th>13319</th>\n",
       "      <td>B4 I answer that, I can't remember where I've ...</td>\n",
       "      <td>negative</td>\n",
       "      <td>0</td>\n",
       "      <td>B4 I answer that  I can t remember where I ve ...</td>\n",
       "      <td>119</td>\n",
       "    </tr>\n",
       "    <tr>\n",
       "      <th>8277</th>\n",
       "      <td>the movie is obviously a labour of love so how...</td>\n",
       "      <td>neg</td>\n",
       "      <td>0</td>\n",
       "      <td>the movie is obviously a labour of love so how...</td>\n",
       "      <td>116</td>\n",
       "    </tr>\n",
       "    <tr>\n",
       "      <th>10282</th>\n",
       "      <td>hart's war seems to want to be a character stu...</td>\n",
       "      <td>neg</td>\n",
       "      <td>0</td>\n",
       "      <td>hart s war seems to want to be a character stu...</td>\n",
       "      <td>103</td>\n",
       "    </tr>\n",
       "    <tr>\n",
       "      <th>2046</th>\n",
       "      <td>a disturbing examination of what appears to be...</td>\n",
       "      <td>pos</td>\n",
       "      <td>1</td>\n",
       "      <td>a disturbing examination of what appears to be...</td>\n",
       "      <td>91</td>\n",
       "    </tr>\n",
       "    <tr>\n",
       "      <th>1254</th>\n",
       "      <td>my thoughts were focused on the characters . t...</td>\n",
       "      <td>pos</td>\n",
       "      <td>1</td>\n",
       "      <td>my thoughts were focused on the characters   t...</td>\n",
       "      <td>182</td>\n",
       "    </tr>\n",
       "    <tr>\n",
       "      <th>5400</th>\n",
       "      <td>maybe leblanc thought , \" hey , the movie abou...</td>\n",
       "      <td>neg</td>\n",
       "      <td>0</td>\n",
       "      <td>maybe leblanc thought     hey   the movie abou...</td>\n",
       "      <td>90</td>\n",
       "    </tr>\n",
       "    <tr>\n",
       "      <th>4517</th>\n",
       "      <td>the film fearlessly gets under the skin of the...</td>\n",
       "      <td>pos</td>\n",
       "      <td>1</td>\n",
       "      <td>the film fearlessly gets under the skin of the...</td>\n",
       "      <td>179</td>\n",
       "    </tr>\n",
       "    <tr>\n",
       "      <th>13922</th>\n",
       "      <td>Ok it is 3 pound before 11 and 5 after :) So i...</td>\n",
       "      <td>positive</td>\n",
       "      <td>1</td>\n",
       "      <td>Ok it is 3 pound before 11 and 5 after    So i...</td>\n",
       "      <td>74</td>\n",
       "    </tr>\n",
       "    <tr>\n",
       "      <th>...</th>\n",
       "      <td>...</td>\n",
       "      <td>...</td>\n",
       "      <td>...</td>\n",
       "      <td>...</td>\n",
       "      <td>...</td>\n",
       "    </tr>\n",
       "    <tr>\n",
       "      <th>3803</th>\n",
       "      <td>dogtown &amp; z-boys evokes the blithe rebel fanta...</td>\n",
       "      <td>pos</td>\n",
       "      <td>1</td>\n",
       "      <td>dogtown   z boys evokes the blithe rebel fanta...</td>\n",
       "      <td>122</td>\n",
       "    </tr>\n",
       "    <tr>\n",
       "      <th>6517</th>\n",
       "      <td>there's no excuse for following up a delightfu...</td>\n",
       "      <td>neg</td>\n",
       "      <td>0</td>\n",
       "      <td>there s no excuse for following up a delightfu...</td>\n",
       "      <td>113</td>\n",
       "    </tr>\n",
       "    <tr>\n",
       "      <th>982</th>\n",
       "      <td>without resorting to hyperbole , i can state t...</td>\n",
       "      <td>pos</td>\n",
       "      <td>1</td>\n",
       "      <td>without resorting to hyperbole   i can state t...</td>\n",
       "      <td>119</td>\n",
       "    </tr>\n",
       "    <tr>\n",
       "      <th>13379</th>\n",
       "      <td>don't waste time quick</td>\n",
       "      <td>negative</td>\n",
       "      <td>0</td>\n",
       "      <td>don t waste time quick</td>\n",
       "      <td>22</td>\n",
       "    </tr>\n",
       "    <tr>\n",
       "      <th>7127</th>\n",
       "      <td>feels haphazard , as if the writers mistakenly...</td>\n",
       "      <td>neg</td>\n",
       "      <td>0</td>\n",
       "      <td>feels haphazard   as if the writers mistakenly...</td>\n",
       "      <td>185</td>\n",
       "    </tr>\n",
       "    <tr>\n",
       "      <th>13157</th>\n",
       "      <td>Not sure leh. just pass to me first</td>\n",
       "      <td>negative</td>\n",
       "      <td>0</td>\n",
       "      <td>Not sure leh  just pass to me first</td>\n",
       "      <td>35</td>\n",
       "    </tr>\n",
       "    <tr>\n",
       "      <th>4856</th>\n",
       "      <td>while it's nothing we haven't seen before from...</td>\n",
       "      <td>pos</td>\n",
       "      <td>1</td>\n",
       "      <td>while it s nothing we haven t seen before from...</td>\n",
       "      <td>157</td>\n",
       "    </tr>\n",
       "    <tr>\n",
       "      <th>9747</th>\n",
       "      <td>a decidedly mixed bag .</td>\n",
       "      <td>neg</td>\n",
       "      <td>0</td>\n",
       "      <td>a decidedly mixed bag</td>\n",
       "      <td>24</td>\n",
       "    </tr>\n",
       "    <tr>\n",
       "      <th>9975</th>\n",
       "      <td>a singularly off-putting romantic comedy .</td>\n",
       "      <td>neg</td>\n",
       "      <td>0</td>\n",
       "      <td>a singularly off putting romantic comedy</td>\n",
       "      <td>43</td>\n",
       "    </tr>\n",
       "    <tr>\n",
       "      <th>2309</th>\n",
       "      <td>a funny and well-contructed black comedy where...</td>\n",
       "      <td>pos</td>\n",
       "      <td>1</td>\n",
       "      <td>a funny and well contructed black comedy where...</td>\n",
       "      <td>120</td>\n",
       "    </tr>\n",
       "    <tr>\n",
       "      <th>8380</th>\n",
       "      <td>enough similarities to gymkata and howie long'...</td>\n",
       "      <td>neg</td>\n",
       "      <td>0</td>\n",
       "      <td>enough similarities to gymkata and howie long ...</td>\n",
       "      <td>137</td>\n",
       "    </tr>\n",
       "    <tr>\n",
       "      <th>641</th>\n",
       "      <td>troubling and powerful .</td>\n",
       "      <td>pos</td>\n",
       "      <td>1</td>\n",
       "      <td>troubling and powerful</td>\n",
       "      <td>25</td>\n",
       "    </tr>\n",
       "    <tr>\n",
       "      <th>10796</th>\n",
       "      <td>Lol i dont want to remember! Haha! Its best un...</td>\n",
       "      <td>positive</td>\n",
       "      <td>1</td>\n",
       "      <td>Lol i dont want to remember  Haha  Its best un...</td>\n",
       "      <td>75</td>\n",
       "    </tr>\n",
       "    <tr>\n",
       "      <th>9561</th>\n",
       "      <td>give shapiro , goldman , and bolado credit for...</td>\n",
       "      <td>neg</td>\n",
       "      <td>0</td>\n",
       "      <td>give shapiro   goldman   and bolado credit for...</td>\n",
       "      <td>137</td>\n",
       "    </tr>\n",
       "    <tr>\n",
       "      <th>3586</th>\n",
       "      <td>easily one of the best and most exciting movie...</td>\n",
       "      <td>pos</td>\n",
       "      <td>1</td>\n",
       "      <td>easily one of the best and most exciting movie...</td>\n",
       "      <td>62</td>\n",
       "    </tr>\n",
       "    <tr>\n",
       "      <th>15544</th>\n",
       "      <td>But now maybe Congress will do the right thing...</td>\n",
       "      <td>positive</td>\n",
       "      <td>1</td>\n",
       "      <td>But now maybe Congress will do the right thing...</td>\n",
       "      <td>58</td>\n",
       "    </tr>\n",
       "    <tr>\n",
       "      <th>11212</th>\n",
       "      <td>More obvious den mine ah... If it's nice den o...</td>\n",
       "      <td>positive</td>\n",
       "      <td>1</td>\n",
       "      <td>More obvious den mine ah    If it s nice den o...</td>\n",
       "      <td>156</td>\n",
       "    </tr>\n",
       "    <tr>\n",
       "      <th>14641</th>\n",
       "      <td>i might be weasling in ... my hu-band snores l...</td>\n",
       "      <td>negative</td>\n",
       "      <td>0</td>\n",
       "      <td>i might be weasling in     my hu band snores l...</td>\n",
       "      <td>67</td>\n",
       "    </tr>\n",
       "    <tr>\n",
       "      <th>2911</th>\n",
       "      <td>as home movie gone haywire , it's pretty enjoy...</td>\n",
       "      <td>pos</td>\n",
       "      <td>1</td>\n",
       "      <td>as home movie gone haywire   it s pretty enjoy...</td>\n",
       "      <td>124</td>\n",
       "    </tr>\n",
       "    <tr>\n",
       "      <th>14864</th>\n",
       "      <td>Thx and i also need ur help to prepare it i ha...</td>\n",
       "      <td>positive</td>\n",
       "      <td>1</td>\n",
       "      <td>Thx and i also need ur help to prepare it i ha...</td>\n",
       "      <td>73</td>\n",
       "    </tr>\n",
       "    <tr>\n",
       "      <th>800</th>\n",
       "      <td>enjoy it for what it is ; you can hate yoursel...</td>\n",
       "      <td>pos</td>\n",
       "      <td>1</td>\n",
       "      <td>enjoy it for what it is   you can hate yoursel...</td>\n",
       "      <td>56</td>\n",
       "    </tr>\n",
       "    <tr>\n",
       "      <th>14879</th>\n",
       "      <td>hey, good luck for exams! hope u pass with fly...</td>\n",
       "      <td>positive</td>\n",
       "      <td>1</td>\n",
       "      <td>hey  good luck for exams  hope u pass with fly...</td>\n",
       "      <td>58</td>\n",
       "    </tr>\n",
       "    <tr>\n",
       "      <th>5317</th>\n",
       "      <td>a vivid , sometimes surreal , glimpse into the...</td>\n",
       "      <td>pos</td>\n",
       "      <td>1</td>\n",
       "      <td>a vivid   sometimes surreal   glimpse into the...</td>\n",
       "      <td>77</td>\n",
       "    </tr>\n",
       "    <tr>\n",
       "      <th>8533</th>\n",
       "      <td>[a] painfully flat gross-out comedy . . .</td>\n",
       "      <td>neg</td>\n",
       "      <td>0</td>\n",
       "      <td>a  painfully flat gross out comedy</td>\n",
       "      <td>42</td>\n",
       "    </tr>\n",
       "    <tr>\n",
       "      <th>7040</th>\n",
       "      <td>what was once original has been co-opted so fr...</td>\n",
       "      <td>neg</td>\n",
       "      <td>0</td>\n",
       "      <td>what was once original has been co opted so fr...</td>\n",
       "      <td>86</td>\n",
       "    </tr>\n",
       "    <tr>\n",
       "      <th>6590</th>\n",
       "      <td>self-congratulatory , misguided , and ill-info...</td>\n",
       "      <td>neg</td>\n",
       "      <td>0</td>\n",
       "      <td>self congratulatory   misguided   and ill info...</td>\n",
       "      <td>93</td>\n",
       "    </tr>\n",
       "    <tr>\n",
       "      <th>2580</th>\n",
       "      <td>the most brilliant work in this genre since th...</td>\n",
       "      <td>pos</td>\n",
       "      <td>1</td>\n",
       "      <td>the most brilliant work in this genre since th...</td>\n",
       "      <td>137</td>\n",
       "    </tr>\n",
       "    <tr>\n",
       "      <th>3583</th>\n",
       "      <td>fred schepisi's tale of four englishmen facing...</td>\n",
       "      <td>pos</td>\n",
       "      <td>1</td>\n",
       "      <td>fred schepisi s tale of four englishmen facing...</td>\n",
       "      <td>151</td>\n",
       "    </tr>\n",
       "    <tr>\n",
       "      <th>6932</th>\n",
       "      <td>a valueless kiddie paean to pro basketball und...</td>\n",
       "      <td>neg</td>\n",
       "      <td>0</td>\n",
       "      <td>a valueless kiddie paean to pro basketball und...</td>\n",
       "      <td>69</td>\n",
       "    </tr>\n",
       "    <tr>\n",
       "      <th>13273</th>\n",
       "      <td>Good to `` hear '' your voice .</td>\n",
       "      <td>positive</td>\n",
       "      <td>1</td>\n",
       "      <td>Good to    hear    your voice</td>\n",
       "      <td>31</td>\n",
       "    </tr>\n",
       "  </tbody>\n",
       "</table>\n",
       "<p>1000 rows × 5 columns</p>\n",
       "</div>"
      ],
      "text/plain": [
       "                                                    text     label  label_num  \\\n",
       "15674  - i am ditching this update to go hang out on ...  negative          0   \n",
       "266    an incendiary , deeply thought-provoking look ...       pos          1   \n",
       "7514   that is essentially what's missing from blackb...       neg          0   \n",
       "10617  queen of the damned is too long with too littl...       neg          0   \n",
       "1619   meyjes' provocative film might be called an ex...       pos          1   \n",
       "280    an endearingly offbeat romantic comedy with a ...       pos          1   \n",
       "9431   the story is bogus and its characters tissue-t...       neg          0   \n",
       "9877   spreads itself too thin , leaving these actors...       neg          0   \n",
       "3538   more than simply a portrait of early extreme s...       pos          1   \n",
       "12770  hey shuz, long time haven heard from you. how ...  negative          0   \n",
       "3616   a headline-fresh thriller set among orthodox j...       pos          1   \n",
       "2233   efteriades gives the neighborhood -- scenery ,...       pos          1   \n",
       "343    an intriguing and entertaining introduction to...       pos          1   \n",
       "4337   visually breathtaking , viscerally exciting , ...       pos          1   \n",
       "15754  lol i have addictive personality but if i am t...  negative          0   \n",
       "11893  I edited them out , because I was n't wearing ...  negative          0   \n",
       "4232   a gem , captured in the unhurried , low-key st...       pos          1   \n",
       "7478   arnold's jump from little screen to big will l...       neg          0   \n",
       "3690   bolstered by exceptional performances and a cl...       pos          1   \n",
       "13520  Thanks Merry X'mas to you too Jianbin, and enj...  positive          1   \n",
       "1522    \" mostly martha \" is a bright , light modern ...       pos          1   \n",
       "12213                no worries.u ask he sure say ok lah  positive          1   \n",
       "13319  B4 I answer that, I can't remember where I've ...  negative          0   \n",
       "8277   the movie is obviously a labour of love so how...       neg          0   \n",
       "10282  hart's war seems to want to be a character stu...       neg          0   \n",
       "2046   a disturbing examination of what appears to be...       pos          1   \n",
       "1254   my thoughts were focused on the characters . t...       pos          1   \n",
       "5400   maybe leblanc thought , \" hey , the movie abou...       neg          0   \n",
       "4517   the film fearlessly gets under the skin of the...       pos          1   \n",
       "13922  Ok it is 3 pound before 11 and 5 after :) So i...  positive          1   \n",
       "...                                                  ...       ...        ...   \n",
       "3803   dogtown & z-boys evokes the blithe rebel fanta...       pos          1   \n",
       "6517   there's no excuse for following up a delightfu...       neg          0   \n",
       "982    without resorting to hyperbole , i can state t...       pos          1   \n",
       "13379                             don't waste time quick  negative          0   \n",
       "7127   feels haphazard , as if the writers mistakenly...       neg          0   \n",
       "13157                Not sure leh. just pass to me first  negative          0   \n",
       "4856   while it's nothing we haven't seen before from...       pos          1   \n",
       "9747                            a decidedly mixed bag .        neg          0   \n",
       "9975         a singularly off-putting romantic comedy .        neg          0   \n",
       "2309   a funny and well-contructed black comedy where...       pos          1   \n",
       "8380   enough similarities to gymkata and howie long'...       neg          0   \n",
       "641                            troubling and powerful .        pos          1   \n",
       "10796  Lol i dont want to remember! Haha! Its best un...  positive          1   \n",
       "9561   give shapiro , goldman , and bolado credit for...       neg          0   \n",
       "3586   easily one of the best and most exciting movie...       pos          1   \n",
       "15544  But now maybe Congress will do the right thing...  positive          1   \n",
       "11212  More obvious den mine ah... If it's nice den o...  positive          1   \n",
       "14641  i might be weasling in ... my hu-band snores l...  negative          0   \n",
       "2911   as home movie gone haywire , it's pretty enjoy...       pos          1   \n",
       "14864  Thx and i also need ur help to prepare it i ha...  positive          1   \n",
       "800    enjoy it for what it is ; you can hate yoursel...       pos          1   \n",
       "14879  hey, good luck for exams! hope u pass with fly...  positive          1   \n",
       "5317   a vivid , sometimes surreal , glimpse into the...       pos          1   \n",
       "8533          [a] painfully flat gross-out comedy . . .        neg          0   \n",
       "7040   what was once original has been co-opted so fr...       neg          0   \n",
       "6590   self-congratulatory , misguided , and ill-info...       neg          0   \n",
       "2580   the most brilliant work in this genre since th...       pos          1   \n",
       "3583   fred schepisi's tale of four englishmen facing...       pos          1   \n",
       "6932   a valueless kiddie paean to pro basketball und...       neg          0   \n",
       "13273                    Good to `` hear '' your voice .  positive          1   \n",
       "\n",
       "                                              clean_text  text_len  \n",
       "15674  i am ditching this update to go hang out on th...        85  \n",
       "266    an incendiary   deeply thought provoking look ...       153  \n",
       "7514   that is essentially what s missing from blackb...       109  \n",
       "10617  queen of the damned is too long with too littl...        59  \n",
       "1619   meyjes  provocative film might be called an ex...        83  \n",
       "280    an endearingly offbeat romantic comedy with a ...        72  \n",
       "9431   the story is bogus and its characters tissue thin        52  \n",
       "9877   spreads itself too thin   leaving these actors...       124  \n",
       "3538   more than simply a portrait of early extreme s...       151  \n",
       "12770  hey shuz  long time haven heard from you  how ...        74  \n",
       "3616   a headline fresh thriller set among orthodox j...       237  \n",
       "2233   efteriades gives the neighborhood    scenery  ...       112  \n",
       "343    an intriguing and entertaining introduction to...        57  \n",
       "4337   visually breathtaking   viscerally exciting   ...       117  \n",
       "15754  lol i have addictive personality but if i am t...       103  \n",
       "11893  I edited them out   because I was n t wearing ...        55  \n",
       "4232   a gem   captured in the unhurried   low key st...       102  \n",
       "7478   arnold s jump from little screen to big will l...        85  \n",
       "3690   bolstered by exceptional performances and a cl...       131  \n",
       "13520  Thanks Merry X mas to you too Jianbin  and enj...        75  \n",
       "1522   mostly martha   is a bright   light modern day...       117  \n",
       "12213                no worries u ask he sure say ok lah        35  \n",
       "13319  B4 I answer that  I can t remember where I ve ...       119  \n",
       "8277   the movie is obviously a labour of love so how...       116  \n",
       "10282  hart s war seems to want to be a character stu...       103  \n",
       "2046   a disturbing examination of what appears to be...        91  \n",
       "1254   my thoughts were focused on the characters   t...       182  \n",
       "5400   maybe leblanc thought     hey   the movie abou...        90  \n",
       "4517   the film fearlessly gets under the skin of the...       179  \n",
       "13922  Ok it is 3 pound before 11 and 5 after    So i...        74  \n",
       "...                                                  ...       ...  \n",
       "3803   dogtown   z boys evokes the blithe rebel fanta...       122  \n",
       "6517   there s no excuse for following up a delightfu...       113  \n",
       "982    without resorting to hyperbole   i can state t...       119  \n",
       "13379                             don t waste time quick        22  \n",
       "7127   feels haphazard   as if the writers mistakenly...       185  \n",
       "13157                Not sure leh  just pass to me first        35  \n",
       "4856   while it s nothing we haven t seen before from...       157  \n",
       "9747                               a decidedly mixed bag        24  \n",
       "9975            a singularly off putting romantic comedy        43  \n",
       "2309   a funny and well contructed black comedy where...       120  \n",
       "8380   enough similarities to gymkata and howie long ...       137  \n",
       "641                               troubling and powerful        25  \n",
       "10796  Lol i dont want to remember  Haha  Its best un...        75  \n",
       "9561   give shapiro   goldman   and bolado credit for...       137  \n",
       "3586   easily one of the best and most exciting movie...        62  \n",
       "15544  But now maybe Congress will do the right thing...        58  \n",
       "11212  More obvious den mine ah    If it s nice den o...       156  \n",
       "14641  i might be weasling in     my hu band snores l...        67  \n",
       "2911   as home movie gone haywire   it s pretty enjoy...       124  \n",
       "14864  Thx and i also need ur help to prepare it i ha...        73  \n",
       "800    enjoy it for what it is   you can hate yoursel...        56  \n",
       "14879  hey  good luck for exams  hope u pass with fly...        58  \n",
       "5317   a vivid   sometimes surreal   glimpse into the...        77  \n",
       "8533                  a  painfully flat gross out comedy        42  \n",
       "7040   what was once original has been co opted so fr...        86  \n",
       "6590   self congratulatory   misguided   and ill info...        93  \n",
       "2580   the most brilliant work in this genre since th...       137  \n",
       "3583   fred schepisi s tale of four englishmen facing...       151  \n",
       "6932   a valueless kiddie paean to pro basketball und...        69  \n",
       "13273                      Good to    hear    your voice        31  \n",
       "\n",
       "[1000 rows x 5 columns]"
      ]
     },
     "execution_count": 53,
     "metadata": {},
     "output_type": "execute_result"
    }
   ],
   "source": [
    "df.sample(1000)"
   ]
  },
  {
   "cell_type": "code",
   "execution_count": 14,
   "metadata": {},
   "outputs": [
    {
     "data": {
      "text/plain": [
       "1    8097\n",
       "0    7722\n",
       "Name: label_num, dtype: int64"
      ]
     },
     "execution_count": 14,
     "metadata": {},
     "output_type": "execute_result"
    }
   ],
   "source": [
    "df['label_num'].value_counts()"
   ]
  },
  {
   "cell_type": "code",
   "execution_count": 15,
   "metadata": {},
   "outputs": [
    {
     "data": {
      "text/plain": [
       "count                                                 15819\n",
       "unique                                                13013\n",
       "top       Thank you my dear friend..so sweet of you ! Ha...\n",
       "freq                                                      8\n",
       "Name: text, dtype: object"
      ]
     },
     "execution_count": 15,
     "metadata": {},
     "output_type": "execute_result"
    }
   ],
   "source": [
    "df.text.describe()"
   ]
  },
  {
   "cell_type": "code",
   "execution_count": 16,
   "metadata": {},
   "outputs": [],
   "source": [
    "from sklearn.utils import shuffle\n",
    "df = shuffle(df)"
   ]
  },
  {
   "cell_type": "markdown",
   "metadata": {},
   "source": [
    "## EDA"
   ]
  },
  {
   "cell_type": "code",
   "execution_count": 17,
   "metadata": {},
   "outputs": [],
   "source": [
    "import matplotlib.pyplot as plt\n",
    "import seaborn as sns\n",
    "sns.set_style('white')\n",
    "%matplotlib inline"
   ]
  },
  {
   "cell_type": "code",
   "execution_count": 18,
   "metadata": {},
   "outputs": [
    {
     "data": {
      "text/plain": [
       "array([<matplotlib.axes._subplots.AxesSubplot object at 0x0000023FB187E9B0>,\n",
       "       <matplotlib.axes._subplots.AxesSubplot object at 0x0000023FB18DFE48>], dtype=object)"
      ]
     },
     "execution_count": 18,
     "metadata": {},
     "output_type": "execute_result"
    },
    {
     "data": {
      "image/png": "[encoded data removed]",
      "text/plain": [
       "<matplotlib.figure.Figure at 0x23fa9113780>"
      ]
     },
     "metadata": {},
     "output_type": "display_data"
    }
   ],
   "source": [
    "df.hist(column='text_len',by ='label_num',bins=50,figsize = (16,5))"
   ]
  },
  {
   "cell_type": "code",
   "execution_count": 19,
   "metadata": {},
   "outputs": [
    {
     "data": {
      "text/plain": [
       "<matplotlib.axes._subplots.AxesSubplot at 0x23fb18f4d68>"
      ]
     },
     "execution_count": 19,
     "metadata": {},
     "output_type": "execute_result"
    },
    {
     "data": {
      "image/png": "[encoded data removed]",
      "text/plain": [
       "<matplotlib.figure.Figure at 0x23fb190f748>"
      ]
     },
     "metadata": {},
     "output_type": "display_data"
    }
   ],
   "source": [
    "sns.countplot(x='label_num',data=df,palette='rainbow')"
   ]
  },
  {
   "cell_type": "markdown",
   "metadata": {},
   "source": [
    "## Train Test Split"
   ]
  },
  {
   "cell_type": "code",
   "execution_count": 20,
   "metadata": {},
   "outputs": [
    {
     "name": "stdout",
     "output_type": "stream",
     "text": [
      "(15819,)\n",
      "(15819,)\n"
     ]
    }
   ],
   "source": [
    "#X = df['text'][0:2000]\n",
    "#y = df['label_num'][0:2000]\n",
    "X = df['text']\n",
    "y = df['label_num']\n",
    "print(X.shape)\n",
    "print(y.shape)"
   ]
  },
  {
   "cell_type": "code",
   "execution_count": 21,
   "metadata": {},
   "outputs": [
    {
     "name": "stdout",
     "output_type": "stream",
     "text": [
      "(12655,)\n",
      "(3164,)\n",
      "(12655,)\n",
      "(3164,)\n"
     ]
    }
   ],
   "source": [
    "from sklearn.model_selection import train_test_split\n",
    "X_train, X_test, y_train, y_test = train_test_split(X, y,test_size=0.2,random_state=101)\n",
    "print (X_train.shape)\n",
    "print (X_test.shape)\n",
    "print (y_train.shape)\n",
    "print (y_test.shape)"
   ]
  },
  {
   "cell_type": "markdown",
   "metadata": {},
   "source": [
    "## Feature extraction - using Spacy and Word Vectorization"
   ]
  },
  {
   "cell_type": "markdown",
   "metadata": {},
   "source": [
    "#### Create spacy tokenizer that parses a sentence and generates tokens"
   ]
  },
  {
   "cell_type": "code",
   "execution_count": 22,
   "metadata": {},
   "outputs": [],
   "source": [
    "def spacy_tokenizer(sentence):\n",
    "    tokens = nlp(sentence)\n",
    "    tokens = [tok.lemma_.lower().strip() if tok.lemma_ != \"-PRON-\" else tok.lower_ for tok in tokens]\n",
    "    tokens = [tok for tok in tokens if (tok not in STOP_WORDS and tok not in string.punctuation)]     \n",
    "    return tokens"
   ]
  },
  {
   "cell_type": "code",
   "execution_count": 23,
   "metadata": {},
   "outputs": [
    {
     "name": "stdout",
     "output_type": "stream",
     "text": [
      "['visually', 'flashy', 'narratively', 'opaque', 'emotionally', 'vapid', 'exercise', 'style', 'mystification', 'walk', 'walk', 'walk']\n"
     ]
    }
   ],
   "source": [
    "text = 'a visually flashy but narratively opaque and emotionally vapid exercise in style and mystification. walk, walking, walked'\n",
    "print (spacy_tokenizer(text))"
   ]
  },
  {
   "cell_type": "code",
   "execution_count": 24,
   "metadata": {},
   "outputs": [],
   "source": [
    "#use bi-gram \n",
    "#ignore terms that appear in more than 50% of docs\n",
    "#only keep terms that appear in at least 3 docs\n",
    "vectorizer = TfidfVectorizer(tokenizer = spacy_tokenizer, ngram_range=(1,2), max_df=0.4, min_df=2) "
   ]
  },
  {
   "cell_type": "code",
   "execution_count": 66,
   "metadata": {},
   "outputs": [
    {
     "name": "stdout",
     "output_type": "stream",
     "text": [
      "Wall time: 2min 21s\n"
     ]
    }
   ],
   "source": [
    "%%time\n",
    "X_train_dtm = vectorizer.fit_transform(X_train)"
   ]
  },
  {
   "cell_type": "code",
   "execution_count": 26,
   "metadata": {},
   "outputs": [
    {
     "data": {
      "text/plain": [
       "<12655x21496 sparse matrix of type '<class 'numpy.float64'>'\n",
       "\twith 148256 stored elements in Compressed Sparse Row format>"
      ]
     },
     "execution_count": 26,
     "metadata": {},
     "output_type": "execute_result"
    }
   ],
   "source": [
    "X_train_dtm"
   ]
  },
  {
   "cell_type": "code",
   "execution_count": 67,
   "metadata": {},
   "outputs": [],
   "source": [
    "save_v = open(\"pickled_algos/vect.pickle\",\"wb\")\n",
    "pickle.dump(vectorizer, save_v)\n",
    "save_v.close()"
   ]
  },
  {
   "cell_type": "code",
   "execution_count": 27,
   "metadata": {},
   "outputs": [
    {
     "name": "stdout",
     "output_type": "stream",
     "text": [
      "Wall time: 1min 6s\n"
     ]
    }
   ],
   "source": [
    "%%time\n",
    "X_test_dtm = vectorizer.transform(X_test)"
   ]
  },
  {
   "cell_type": "markdown",
   "metadata": {},
   "source": [
    "## Train model, predict and evaluation\n",
    "The multinomial Navie Bayes classifier is suitable for classifciation with discrete features (e.g. word counts for text classificiation).  The multinomial distribution normally requires integer feature counts.  However, factional counts like tf-idf may also work."
   ]
  },
  {
   "cell_type": "code",
   "execution_count": 28,
   "metadata": {},
   "outputs": [],
   "source": [
    "nb = MultinomialNB()"
   ]
  },
  {
   "cell_type": "code",
   "execution_count": 29,
   "metadata": {},
   "outputs": [
    {
     "name": "stdout",
     "output_type": "stream",
     "text": [
      "Wall time: 14.2 ms\n"
     ]
    }
   ],
   "source": [
    "%%time\n",
    "nb.fit(X_train_dtm, y_train)\n",
    "y_predict = nb.predict(X_test_dtm)"
   ]
  },
  {
   "cell_type": "code",
   "execution_count": 30,
   "metadata": {},
   "outputs": [
    {
     "name": "stdout",
     "output_type": "stream",
     "text": [
      "[[1134  392]\n",
      " [ 368 1270]]\n",
      "             precision    recall  f1-score   support\n",
      "\n",
      "          0       0.75      0.74      0.75      1526\n",
      "          1       0.76      0.78      0.77      1638\n",
      "\n",
      "avg / total       0.76      0.76      0.76      3164\n",
      "\n"
     ]
    }
   ],
   "source": [
    "metrics.accuracy_score (y_test, y_predict)\n",
    "print(metrics.confusion_matrix(y_test,y_predict))\n",
    "print(metrics.classification_report(y_test,y_predict))"
   ]
  },
  {
   "cell_type": "code",
   "execution_count": 31,
   "metadata": {},
   "outputs": [],
   "source": [
    "y_predict_prob = nb.predict_proba(X_test_dtm)[:, 1]"
   ]
  },
  {
   "cell_type": "code",
   "execution_count": 32,
   "metadata": {},
   "outputs": [
    {
     "data": {
      "text/plain": [
       "0.84301912955255021"
      ]
     },
     "execution_count": 32,
     "metadata": {},
     "output_type": "execute_result"
    }
   ],
   "source": [
    "metrics.roc_auc_score(y_test, y_predict_prob)"
   ]
  },
  {
   "cell_type": "code",
   "execution_count": null,
   "metadata": {},
   "outputs": [],
   "source": []
  },
  {
   "cell_type": "code",
   "execution_count": 49,
   "metadata": {},
   "outputs": [
    {
     "data": {
      "text/plain": [
       "['hate', 'chris', 'shame']"
      ]
     },
     "execution_count": 49,
     "metadata": {},
     "output_type": "execute_result"
    }
   ],
   "source": [
    "text = 'I hate Chris, shame to you'\n",
    "spacy_tokenizer(text)\n",
    "\n"
   ]
  },
  {
   "cell_type": "code",
   "execution_count": 61,
   "metadata": {},
   "outputs": [],
   "source": [
    "temp = vectorizer.transform([text])"
   ]
  },
  {
   "cell_type": "code",
   "execution_count": 62,
   "metadata": {},
   "outputs": [
    {
     "data": {
      "text/plain": [
       "'I hate Chris, shame to you'"
      ]
     },
     "execution_count": 62,
     "metadata": {},
     "output_type": "execute_result"
    }
   ],
   "source": [
    "text"
   ]
  },
  {
   "cell_type": "code",
   "execution_count": 68,
   "metadata": {},
   "outputs": [
    {
     "name": "stdout",
     "output_type": "stream",
     "text": [
      "0.28776006871561266\n"
     ]
    }
   ],
   "source": [
    "ans = nb.predict_proba(temp)\n",
    "score = float(ans[0][1]) - float([0][0])\n",
    "print (score)"
   ]
  },
  {
   "cell_type": "code",
   "execution_count": 48,
   "metadata": {},
   "outputs": [
    {
     "name": "stdout",
     "output_type": "stream",
     "text": [
      "[0]\n"
     ]
    }
   ],
   "source": [
    "print (nb.predict(temp))"
   ]
  },
  {
   "cell_type": "code",
   "execution_count": 64,
   "metadata": {},
   "outputs": [],
   "source": [
    "import pickle\n",
    "save_classifier = open(\"pickled_algos/MNB.pickle\",\"wb\")\n",
    "pickle.dump(nb, save_classifier)\n",
    "save_classifier.close()\n"
   ]
  },
  {
   "cell_type": "code",
   "execution_count": null,
   "metadata": {},
   "outputs": [],
   "source": []
  }
 ],
 "metadata": {
  "kernelspec": {
   "display_name": "python36",
   "language": "python",
   "name": "python36"
  },
  "language_info": {
   "codemirror_mode": {
    "name": "ipython",
    "version": 3
   },
   "file_extension": ".py",
   "mimetype": "text/x-python",
   "name": "python",
   "nbconvert_exporter": "python",
   "pygments_lexer": "ipython3",
   "version": "3.6.3"
  }
 },
 "nbformat": 4,
 "nbformat_minor": 2
}
